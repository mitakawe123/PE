{
 "cells": [
  {
   "cell_type": "code",
   "execution_count": null,
   "id": "5a918cf2-fb83-4e56-af33-164e14f3b258",
   "metadata": {},
   "outputs": [],
   "source": []
  }
 ],
 "metadata": {
  "kernelspec": {
   "display_name": "",
   "name": ""
  },
  "language_info": {
   "name": ""
  }
 },
 "nbformat": 4,
 "nbformat_minor": 5
}
